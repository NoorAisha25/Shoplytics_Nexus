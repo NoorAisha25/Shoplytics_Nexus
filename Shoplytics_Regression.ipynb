{
 "cells": [
  {
   "cell_type": "code",
   "execution_count": 12,
   "id": "0a19ece7-6346-4785-aadf-e2d2cb4cb236",
   "metadata": {},
   "outputs": [
    {
     "name": "stdout",
     "output_type": "stream",
     "text": [
      "Shape after cleaning: (11239, 10)\n"
     ]
    },
    {
     "data": {
      "text/html": [
       "<div>\n",
       "<style scoped>\n",
       "    .dataframe tbody tr th:only-of-type {\n",
       "        vertical-align: middle;\n",
       "    }\n",
       "\n",
       "    .dataframe tbody tr th {\n",
       "        vertical-align: top;\n",
       "    }\n",
       "\n",
       "    .dataframe thead th {\n",
       "        text-align: right;\n",
       "    }\n",
       "</style>\n",
       "<table border=\"1\" class=\"dataframe\">\n",
       "  <thead>\n",
       "    <tr style=\"text-align: right;\">\n",
       "      <th></th>\n",
       "      <th>Gender</th>\n",
       "      <th>Age Group</th>\n",
       "      <th>Age</th>\n",
       "      <th>Marital_Status</th>\n",
       "      <th>State</th>\n",
       "      <th>Zone</th>\n",
       "      <th>Occupation</th>\n",
       "      <th>Product_Category</th>\n",
       "      <th>Orders</th>\n",
       "      <th>Amount</th>\n",
       "    </tr>\n",
       "  </thead>\n",
       "  <tbody>\n",
       "    <tr>\n",
       "      <th>0</th>\n",
       "      <td>F</td>\n",
       "      <td>26-35</td>\n",
       "      <td>28</td>\n",
       "      <td>0</td>\n",
       "      <td>Maharashtra</td>\n",
       "      <td>Western</td>\n",
       "      <td>Healthcare</td>\n",
       "      <td>Auto</td>\n",
       "      <td>1</td>\n",
       "      <td>23952.0</td>\n",
       "    </tr>\n",
       "    <tr>\n",
       "      <th>1</th>\n",
       "      <td>F</td>\n",
       "      <td>26-35</td>\n",
       "      <td>35</td>\n",
       "      <td>1</td>\n",
       "      <td>Andhra Pradesh</td>\n",
       "      <td>Southern</td>\n",
       "      <td>Govt</td>\n",
       "      <td>Auto</td>\n",
       "      <td>3</td>\n",
       "      <td>23934.0</td>\n",
       "    </tr>\n",
       "    <tr>\n",
       "      <th>2</th>\n",
       "      <td>F</td>\n",
       "      <td>26-35</td>\n",
       "      <td>35</td>\n",
       "      <td>1</td>\n",
       "      <td>Uttar Pradesh</td>\n",
       "      <td>Central</td>\n",
       "      <td>Automobile</td>\n",
       "      <td>Auto</td>\n",
       "      <td>3</td>\n",
       "      <td>23924.0</td>\n",
       "    </tr>\n",
       "    <tr>\n",
       "      <th>3</th>\n",
       "      <td>M</td>\n",
       "      <td>0-17</td>\n",
       "      <td>16</td>\n",
       "      <td>0</td>\n",
       "      <td>Karnataka</td>\n",
       "      <td>Southern</td>\n",
       "      <td>Construction</td>\n",
       "      <td>Auto</td>\n",
       "      <td>2</td>\n",
       "      <td>23912.0</td>\n",
       "    </tr>\n",
       "    <tr>\n",
       "      <th>4</th>\n",
       "      <td>M</td>\n",
       "      <td>26-35</td>\n",
       "      <td>28</td>\n",
       "      <td>1</td>\n",
       "      <td>Gujarat</td>\n",
       "      <td>Western</td>\n",
       "      <td>Food Processing</td>\n",
       "      <td>Auto</td>\n",
       "      <td>2</td>\n",
       "      <td>23877.0</td>\n",
       "    </tr>\n",
       "  </tbody>\n",
       "</table>\n",
       "</div>"
      ],
      "text/plain": [
       "  Gender Age Group  Age  Marital_Status           State      Zone  \\\n",
       "0      F     26-35   28               0     Maharashtra   Western   \n",
       "1      F     26-35   35               1  Andhra Pradesh  Southern   \n",
       "2      F     26-35   35               1   Uttar Pradesh   Central   \n",
       "3      M      0-17   16               0       Karnataka  Southern   \n",
       "4      M     26-35   28               1         Gujarat   Western   \n",
       "\n",
       "        Occupation Product_Category  Orders   Amount  \n",
       "0       Healthcare             Auto       1  23952.0  \n",
       "1             Govt             Auto       3  23934.0  \n",
       "2       Automobile             Auto       3  23924.0  \n",
       "3     Construction             Auto       2  23912.0  \n",
       "4  Food Processing             Auto       2  23877.0  "
      ]
     },
     "execution_count": 12,
     "metadata": {},
     "output_type": "execute_result"
    }
   ],
   "source": [
    "# Cell 1 – Load & Clean\n",
    "import pandas as pd\n",
    "import numpy as np\n",
    "\n",
    "# 1. Load the data\n",
    "df = pd.read_csv('Shoplytics_Nexus_Data.csv', encoding='unicode_escape')\n",
    "\n",
    "# 2. Drop identifier/garbage columns\n",
    "cols_to_drop = ['User_ID', 'Cust_name', 'Product_ID', 'unnamed1', 'Status']\n",
    "df = df.drop(columns=cols_to_drop, errors='ignore')\n",
    "\n",
    "# 3. Remove rows where the target is missing\n",
    "df = df.dropna(subset=['Amount']).reset_index(drop=True)\n",
    "\n",
    "# Quick check\n",
    "print(\"Shape after cleaning:\", df.shape)\n",
    "df.head()"
   ]
  },
  {
   "cell_type": "code",
   "execution_count": 13,
   "id": "90ee59c2-a5da-4e37-90ac-317ecf97e023",
   "metadata": {},
   "outputs": [
    {
     "name": "stdout",
     "output_type": "stream",
     "text": [
      "Feature columns: ['Gender', 'Age Group', 'Age', 'Marital_Status', 'State', 'Zone', 'Occupation', 'Product_Category', 'Orders']\n",
      "Target: Amount\n"
     ]
    }
   ],
   "source": [
    "# Cell 2 – Define Features & Target\n",
    "TARGET = 'Amount'\n",
    "\n",
    "# 4. Split into X (features) and y (target)\n",
    "X = df.drop(columns=[TARGET])\n",
    "y = df[TARGET]\n",
    "\n",
    "print(\"Feature columns:\", X.columns.tolist())\n",
    "print(\"Target:\", TARGET)\n"
   ]
  },
  {
   "cell_type": "code",
   "execution_count": 14,
   "id": "d08ae5c2-a5de-4b0f-ad11-4dafc552c39d",
   "metadata": {},
   "outputs": [
    {
     "name": "stdout",
     "output_type": "stream",
     "text": [
      "Missing per column:\n",
      " Gender              0\n",
      "Age Group           0\n",
      "Age                 0\n",
      "Marital_Status      0\n",
      "State               0\n",
      "Zone                0\n",
      "Occupation          0\n",
      "Product_Category    0\n",
      "Orders              0\n",
      "dtype: int64\n"
     ]
    }
   ],
   "source": [
    "# Cell 3 – Impute Missing Values (if any)\n",
    "from sklearn.impute import SimpleImputer\n",
    "\n",
    "# 5a. Numeric columns: median imputation\n",
    "num_cols = X.select_dtypes(include=np.number).columns\n",
    "num_imputer = SimpleImputer(strategy='median')\n",
    "X[num_cols] = num_imputer.fit_transform(X[num_cols])\n",
    "\n",
    "# 5b. Categorical columns: most-frequent imputation\n",
    "cat_cols = X.select_dtypes(include=['object','category']).columns.tolist()\n",
    "cat_imputer = SimpleImputer(strategy='most_frequent')\n",
    "X[cat_cols] = cat_imputer.fit_transform(X[cat_cols])\n",
    "\n",
    "# Verify no missing\n",
    "print(\"Missing per column:\\n\", X.isnull().sum())\n"
   ]
  },
  {
   "cell_type": "code",
   "execution_count": 15,
   "id": "34d8f26a-543e-4120-af72-3eb5cf216b0e",
   "metadata": {},
   "outputs": [
    {
     "name": "stdout",
     "output_type": "stream",
     "text": [
      "Final feature matrix shape: (11239, 60)\n"
     ]
    }
   ],
   "source": [
    "# Cell 4 – One-Hot Encode Categoricals\n",
    "from sklearn.preprocessing import OneHotEncoder\n",
    "\n",
    "# 6. Setup encoder (dense output)\n",
    "encoder = OneHotEncoder(drop='first', sparse_output=False)\n",
    "\n",
    "# 7. Fit+transform on categorical columns\n",
    "enc_array = encoder.fit_transform(X[cat_cols])\n",
    "\n",
    "# 8. Build a DataFrame of dummies, preserving index\n",
    "enc_df = pd.DataFrame(\n",
    "    enc_array,\n",
    "    columns=encoder.get_feature_names_out(cat_cols),\n",
    "    index=X.index\n",
    ")\n",
    "\n",
    "# 9. Drop originals and concatenate\n",
    "X = pd.concat([X.drop(columns=cat_cols), enc_df], axis=1)\n",
    "\n",
    "print(\"Final feature matrix shape:\", X.shape)\n"
   ]
  },
  {
   "cell_type": "code",
   "execution_count": 16,
   "id": "11096b23-dcc3-4e8d-a76a-20850c4e77d1",
   "metadata": {},
   "outputs": [
    {
     "name": "stdout",
     "output_type": "stream",
     "text": [
      "Train size: (8991, 60) Test size: (2248, 60)\n"
     ]
    }
   ],
   "source": [
    "# Cell 5 – Train/Test Split\n",
    "from sklearn.model_selection import train_test_split\n",
    "\n",
    "X_train, X_test, y_train, y_test = train_test_split(\n",
    "    X, y, test_size=0.2, random_state=42\n",
    ")\n",
    "\n",
    "print(\"Train size:\", X_train.shape, \"Test size:\", X_test.shape)\n"
   ]
  },
  {
   "cell_type": "code",
   "execution_count": 8,
   "id": "f237dd1f-ae29-433e-9173-df315152437a",
   "metadata": {},
   "outputs": [
    {
     "name": "stdout",
     "output_type": "stream",
     "text": [
      "New feature matrix shape: (11251, 2410)\n"
     ]
    }
   ],
   "source": [
    "from sklearn.preprocessing import OneHotEncoder\n",
    "import pandas as pd\n",
    "\n",
    "# 1. Identify categorical columns\n",
    "cat_cols = X.select_dtypes(include=['object','category']).columns.tolist()\n",
    "\n",
    "# 2. One-hot encoder with new argument name\n",
    "encoder = OneHotEncoder(drop='first', sparse_output=False)\n",
    "\n",
    "# 3. Fit & transform to a NumPy array\n",
    "enc_array = encoder.fit_transform(X[cat_cols])\n",
    "\n",
    "# 4. Build a DataFrame of the new dummy columns (preserve X’s index)\n",
    "enc_df = pd.DataFrame(\n",
    "    enc_array,\n",
    "    columns=encoder.get_feature_names_out(cat_cols),\n",
    "    index=X.index\n",
    ")\n",
    "\n",
    "# 5. Drop the original text columns and concatenate\n",
    "X = pd.concat([X.drop(columns=cat_cols), enc_df], axis=1)\n",
    "\n",
    "print(\"New feature matrix shape:\", X.shape)"
   ]
  },
  {
   "cell_type": "code",
   "execution_count": 17,
   "id": "86aa6292-bbe4-48ba-91a8-e9f3b120e440",
   "metadata": {},
   "outputs": [
    {
     "name": "stdout",
     "output_type": "stream",
     "text": [
      "Test RMSE: 3195.66\n",
      "Test R²:   0.625\n"
     ]
    }
   ],
   "source": [
    "# Cell 6 – Fit & Evaluate Linear Regression\n",
    "from sklearn.linear_model import LinearRegression\n",
    "from sklearn.metrics import mean_squared_error, r2_score\n",
    "\n",
    "# 10. Train\n",
    "model = LinearRegression()\n",
    "model.fit(X_train, y_train)\n",
    "\n",
    "# 11. Predict\n",
    "y_pred = model.predict(X_test)\n",
    "\n",
    "# 12. Evaluate\n",
    "rmse = np.sqrt(mean_squared_error(y_test, y_pred))\n",
    "r2   = r2_score(y_test, y_pred)\n",
    "\n",
    "print(f\"Test RMSE: {rmse:.2f}\")\n",
    "print(f\"Test R²:   {r2:.3f}\")\n"
   ]
  },
  {
   "cell_type": "code",
   "execution_count": 18,
   "id": "db9724fb-3bfc-4caa-92c3-94601e4b1d00",
   "metadata": {},
   "outputs": [
    {
     "name": "stdout",
     "output_type": "stream",
     "text": [
      "Model saved to linear_sales_model.joblib\n"
     ]
    }
   ],
   "source": [
    "# Cell 7 – Save Your Model\n",
    "import joblib\n",
    "\n",
    "joblib.dump(model, 'linear_sales_model.joblib')\n",
    "print(\"Model saved to linear_sales_model.joblib\")\n"
   ]
  },
  {
   "cell_type": "code",
   "execution_count": null,
   "id": "6246778d-9f09-41fd-9bc2-c98f0105ae45",
   "metadata": {},
   "outputs": [],
   "source": []
  }
 ],
 "metadata": {
  "kernelspec": {
   "display_name": "Python 3 (ipykernel)",
   "language": "python",
   "name": "python3"
  },
  "language_info": {
   "codemirror_mode": {
    "name": "ipython",
    "version": 3
   },
   "file_extension": ".py",
   "mimetype": "text/x-python",
   "name": "python",
   "nbconvert_exporter": "python",
   "pygments_lexer": "ipython3",
   "version": "3.13.5"
  }
 },
 "nbformat": 4,
 "nbformat_minor": 5
}
